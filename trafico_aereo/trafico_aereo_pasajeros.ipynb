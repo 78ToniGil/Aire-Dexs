{
 "cells": [
  {
   "cell_type": "code",
   "execution_count": 1,
   "id": "5e191b83-5c69-472a-b79c-b70d456380a3",
   "metadata": {},
   "outputs": [],
   "source": [
    "import numpy as np\n",
    "import os\n",
    "import pandas as pd\n",
    "import glob\n",
    "\n",
    "import matplotlib.pyplot as plt\n",
    "\n",
    "import matplotlib.dates as mdates \n",
    "from matplotlib.dates import MonthLocator, DateFormatter, YearLocator \n",
    "\n",
    "%matplotlib inline"
   ]
  },
  {
   "cell_type": "code",
   "execution_count": 43,
   "metadata": {},
   "outputs": [
    {
     "name": "stdout",
     "output_type": "stream",
     "text": [
      "                 ï»¿\"AEROPUERTOS\"  Unnamed: 1       Total\n",
      "0                             NaN         NaN         NaN\n",
      "1   ADOLFO SUÃREZ MADRID-BARAJAS         NaN  17.112.389\n",
      "2          BARCELONA-EL PRAT J.T.         NaN  12.739.259\n",
      "3               PALMA DE MALLORCA         NaN   6.108.486\n",
      "4            MALAGA-COSTA DEL SOL         NaN   5.161.636\n",
      "..                            ...         ...         ...\n",
      "45                        CORDOBA         NaN       2.254\n",
      "46          MADRID-CUATRO VIENTOS         NaN       1.764\n",
      "47                       ALBACETE         NaN       1.026\n",
      "48                HUESCA-PIRINEOS         NaN       1.017\n",
      "49         MURCIA-SAN JAVIER  (*)         NaN           0\n",
      "\n",
      "[149 rows x 3 columns]\n"
     ]
    }
   ],
   "source": [
    "# use glob to get all the csv files \n",
    "# in the folder\n",
    "path = \"DATASETS/pasajeros\"\n",
    "csv_files = glob.glob(os.path.join(path, \"*.csv\"))\n",
    "\n",
    "# defining an empty list to store \n",
    "# content\n",
    "data_frame_pasajeros = pd.DataFrame()\n",
    "content = []\n",
    "\n",
    "nRowsRead = None\n",
    "  \n",
    "# checking all the csv files in the \n",
    "# specified path\n",
    "for filename in csv_files:\n",
    "    \n",
    "    # reading content of csv file\n",
    "    # content.append(filename)\n",
    "    df = pd.read_csv(filename, delimiter=\";\", encoding= 'ISO-8859-1', nrows = nRowsRead,index_col=None)\n",
    "    content.append(df)\n",
    "  \n",
    "# converting content to data frame\n",
    "data_frame_pasajeros = pd.concat(content)\n",
    "print(data_frame_pasajeros)"
   ]
  },
  {
   "cell_type": "code",
   "execution_count": 36,
   "metadata": {},
   "outputs": [
    {
     "name": "stdout",
     "output_type": "stream",
     "text": [
      "Hay 149 filas y 3 columnas\n"
     ]
    }
   ],
   "source": [
    "nRow, nCol = data_frame_pasajeros.shape\n",
    "print(f'Hay {nRow} filas y {nCol} columnas')"
   ]
  },
  {
   "cell_type": "code",
   "execution_count": 37,
   "metadata": {},
   "outputs": [
    {
     "name": "stdout",
     "output_type": "stream",
     "text": [
      "Tipos de datos de las columnas:\n",
      " ï»¿\"AEROPUERTOS\"     object\n",
      "Unnamed: 1          float64\n",
      "Total                object\n",
      "dtype: object\n",
      "Número de datos que contiene:\n",
      " 447\n"
     ]
    }
   ],
   "source": [
    "print('Tipos de datos de las columnas:\\n', data_frame_pasajeros.dtypes)\n",
    "print ('Número de datos que contiene:\\n', data_frame_pasajeros.size)"
   ]
  },
  {
   "cell_type": "code",
   "execution_count": 31,
   "metadata": {},
   "outputs": [
    {
     "data": {
      "text/html": [
       "<div>\n",
       "<style scoped>\n",
       "    .dataframe tbody tr th:only-of-type {\n",
       "        vertical-align: middle;\n",
       "    }\n",
       "\n",
       "    .dataframe tbody tr th {\n",
       "        vertical-align: top;\n",
       "    }\n",
       "\n",
       "    .dataframe thead th {\n",
       "        text-align: right;\n",
       "    }\n",
       "</style>\n",
       "<table border=\"1\" class=\"dataframe\">\n",
       "  <thead>\n",
       "    <tr style=\"text-align: right;\">\n",
       "      <th></th>\n",
       "      <th>ï»¿\"AEROPUERTOS\"</th>\n",
       "      <th>Unnamed: 1</th>\n",
       "      <th>Total</th>\n",
       "    </tr>\n",
       "  </thead>\n",
       "  <tbody>\n",
       "    <tr>\n",
       "      <th>33</th>\n",
       "      <td>PAMPLONA</td>\n",
       "      <td>NaN</td>\n",
       "      <td>76.632</td>\n",
       "    </tr>\n",
       "    <tr>\n",
       "      <th>46</th>\n",
       "      <td>SON BONET</td>\n",
       "      <td>NaN</td>\n",
       "      <td>4.122</td>\n",
       "    </tr>\n",
       "    <tr>\n",
       "      <th>25</th>\n",
       "      <td>GIRONA-COSTA BRAVA</td>\n",
       "      <td>NaN</td>\n",
       "      <td>226.191</td>\n",
       "    </tr>\n",
       "    <tr>\n",
       "      <th>24</th>\n",
       "      <td>JEREZ DE LA FRONTERA</td>\n",
       "      <td>NaN</td>\n",
       "      <td>216.319</td>\n",
       "    </tr>\n",
       "    <tr>\n",
       "      <th>16</th>\n",
       "      <td>SANTIAGO-ROSALÃA DE CASTRO</td>\n",
       "      <td>NaN</td>\n",
       "      <td>935.394</td>\n",
       "    </tr>\n",
       "    <tr>\n",
       "      <th>11</th>\n",
       "      <td>SEVILLA</td>\n",
       "      <td>NaN</td>\n",
       "      <td>2.024.980</td>\n",
       "    </tr>\n",
       "  </tbody>\n",
       "</table>\n",
       "</div>"
      ],
      "text/plain": [
       "               ï»¿\"AEROPUERTOS\"  Unnamed: 1      Total\n",
       "33                     PAMPLONA         NaN     76.632\n",
       "46                    SON BONET         NaN      4.122\n",
       "25           GIRONA-COSTA BRAVA         NaN    226.191\n",
       "24         JEREZ DE LA FRONTERA         NaN    216.319\n",
       "16  SANTIAGO-ROSALÃA DE CASTRO         NaN    935.394\n",
       "11                      SEVILLA         NaN  2.024.980"
      ]
     },
     "execution_count": 31,
     "metadata": {},
     "output_type": "execute_result"
    }
   ],
   "source": [
    "data_frame_pasajeros.sample(6)"
   ]
  },
  {
   "cell_type": "code",
   "execution_count": 32,
   "metadata": {},
   "outputs": [
    {
     "data": {
      "text/plain": [
       "ï»¿\"AEROPUERTOS\"      3\n",
       "Unnamed: 1          149\n",
       "Total                 3\n",
       "dtype: int64"
      ]
     },
     "execution_count": 32,
     "metadata": {},
     "output_type": "execute_result"
    }
   ],
   "source": [
    "#Buscamos nulls y los contabilizamos. \n",
    "data_frame_pasajeros.isnull().sum()"
   ]
  },
  {
   "cell_type": "code",
   "execution_count": 44,
   "metadata": {},
   "outputs": [],
   "source": [
    "data_frame_pasajeros.drop('Unnamed: 1', axis=1, inplace=True)\n",
    "\n",
    "data_frame_pasajeros.dropna(how='any',axis=0, inplace= True)"
   ]
  },
  {
   "cell_type": "code",
   "execution_count": 45,
   "metadata": {},
   "outputs": [
    {
     "name": "stdout",
     "output_type": "stream",
     "text": [
      "Hay 146 filas y 2 columnas\n"
     ]
    }
   ],
   "source": [
    "nRow, nCol = data_frame_pasajeros.shape\n",
    "print(f'Hay {nRow} filas y {nCol} columnas')"
   ]
  },
  {
   "cell_type": "code",
   "execution_count": 46,
   "metadata": {},
   "outputs": [],
   "source": [
    "data_frame_pasajeros = data_frame_pasajeros.rename (columns = {'ï»¿\"AEROPUERTOS\"':'AEROPUERTO','Total' : 'TOTAL PASAJEROS'})"
   ]
  }
 ],
 "metadata": {
  "interpreter": {
   "hash": "3d597f4c481aa0f25dceb95d2a0067e73c0966dcbd003d741d821a7208527ecf"
  },
  "kernelspec": {
   "display_name": "Python 3.9.5 64-bit ('base': conda)",
   "name": "python3"
  },
  "language_info": {
   "codemirror_mode": {
    "name": "ipython",
    "version": 3
   },
   "file_extension": ".py",
   "mimetype": "text/x-python",
   "name": "python",
   "nbconvert_exporter": "python",
   "pygments_lexer": "ipython3",
   "version": "3.9.5"
  }
 },
 "nbformat": 4,
 "nbformat_minor": 5
}
