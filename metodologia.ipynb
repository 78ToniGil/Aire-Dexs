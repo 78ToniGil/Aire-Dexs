{
 "cells": [
  {
   "cell_type": "markdown",
   "id": "28661fc0-ca7d-4096-9717-5b0d60e05310",
   "metadata": {
    "tags": []
   },
   "source": [
    "### Datos sobre la movilidad de personas en toda España.\n",
    "Desplazamientos entre localidades y entre distritos con matriz de más de 2500 puntos de origen y destino. Este dataset ha sido creado enriqueciendo y limpiando los datos en bruto proporcionados por el Ministerio de Transportes, Movilidad y Agenda Urbana, en base al posicionamiento de teléfonos móviles.\n",
    "\n",
    "#### Las características de este dataset son las siguientes:\n",
    " Volumen estimado: 4000000 registros cada 24 h\n",
    " Histórico: disponible desde 2020-02 a 2020-08"
   ]
  },
  {
   "cell_type": "markdown",
   "id": "cf4032fe-f1d3-432a-9828-7795a1092a6f",
   "metadata": {
    "jp-MarkdownHeadingCollapsed": true,
    "tags": []
   },
   "source": [
    "#### Tipo de análisis descriptivo: Explica qué ha pasado, la situación que recogen los datos.\n",
    "\n",
    "#### Adquisición de datos: Recursos disponibles en internet para descarga: Open Data\n",
    "\n",
    "#### Tratamiento de los datos: Data Wrangling\n",
    "\n",
    "Eliminar errores cometidos en la toma de datos.\n",
    "\n",
    "Tratamiento de datos faltantes o nulos.\n",
    "\n",
    "Agregación de datos. \n",
    "\n",
    "Eliminación de datos irrelevantes. \n",
    "\n",
    "Formato de los datos.\n"
   ]
  },
  {
   "cell_type": "markdown",
   "id": "c82862b0-c1e6-4c91-a4ea-4f28b3cdbc17",
   "metadata": {},
   "source": [
    "#### Exploratory data analysis: EDA"
   ]
  },
  {
   "cell_type": "markdown",
   "id": "c8a47396-e531-4418-9ce6-c21cedb07c5c",
   "metadata": {},
   "source": [
    "#### Extracción de conclusiones\n",
    "\n",
    "Extraer patrones de uso o comportamiento\n",
    "\n",
    "Intentar determinar como completar datos que no tenemos\n",
    "\n",
    "Entender como se distribuyen los datos\n",
    "\n",
    "Responder a las preguntas que se han planteado por parte del negocio u obtener más conocimientos sobre un problema\n",
    "\n",
    "Plantearnos si necesitamos más datos para poder realizar las tareas comentadas\n",
    "\n"
   ]
  }
 ],
 "metadata": {
  "kernelspec": {
   "display_name": "dexs",
   "language": "python",
   "name": "dexs"
  },
  "language_info": {
   "codemirror_mode": {
    "name": "ipython",
    "version": 3
   },
   "file_extension": ".py",
   "mimetype": "text/x-python",
   "name": "python",
   "nbconvert_exporter": "python",
   "pygments_lexer": "ipython3",
   "version": "3.9.7"
  }
 },
 "nbformat": 4,
 "nbformat_minor": 5
}
